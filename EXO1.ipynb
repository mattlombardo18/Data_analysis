{
  "nbformat": 4,
  "nbformat_minor": 0,
  "metadata": {
    "colab": {
      "provenance": []
    },
    "kernelspec": {
      "name": "python3",
      "display_name": "Python 3"
    },
    "language_info": {
      "name": "python"
    }
  },
  "cells": [
    {
      "cell_type": "code",
      "source": [
        "import pandas as pd\n",
        "import seaborn as sns\n",
        "import matplotlib.pyplot as plt\n",
        "\n",
        "# Charger le jeu de données\n",
        "file_path = 'CO2 Emissions_Canada.csv'\n",
        "df = pd.read_csv(file_path)\n",
        "\n",
        "# Afficher les premières lignes du jeu de données et les informations de base\n",
        "print(\"First few rows of the dataset:\")\n",
        "print(df.head())\n",
        "\n",
        "print(\"\\nDataset Info:\")\n",
        "print(df.info())\n",
        "\n",
        "print(\"\\nDescriptive Statistics:\")\n",
        "print(df.describe())\n",
        "\n",
        "# Sélectionner uniquement les colonnes numériques\n",
        "numerical_df = df.select_dtypes(include=['float64', 'int64'])\n",
        "\n",
        "# Calculer la matrice de corrélation\n",
        "corr_matrix = numerical_df.corr()\n",
        "\n",
        "# Visualiser la matrice de corrélation avec une heatmap\n",
        "plt.figure(figsize=(12, 8))\n",
        "sns.heatmap(corr_matrix, annot=True, fmt=\".2f\", cmap='coolwarm', vmin=-1, vmax=1)\n",
        "plt.title('Correlation Matrix')\n",
        "plt.show()\n",
        "\n",
        "# Visualiser les outliers avec des box plots pour les variables numériques\n",
        "fig, axes = plt.subplots(3, 2, figsize=(15, 15))\n",
        "\n",
        "# Liste des colonnes numériques à visualiser\n",
        "numerical_columns = ['Engine Size(L)', 'Cylinders', 'Fuel Consumption City (L/100 km)',\n",
        "                     'Fuel Consumption Hwy (L/100 km)', 'Fuel Consumption Comb (L/100 km)',\n",
        "                     'CO2 Emissions(g/km)']\n",
        "\n",
        "# Générer des box plots pour chaque colonne numérique\n",
        "for ax, column in zip(axes.flatten(), numerical_columns):\n",
        "    sns.boxplot(data=df, x=column, ax=ax)\n",
        "    ax.set_title(f'Box plot of {column}')\n",
        "    ax.set_xlabel('')\n",
        "\n",
        "plt.tight_layout()\n",
        "plt.show()\n"
      ],
      "metadata": {
        "id": "cNZgBKzaiyI_"
      },
      "execution_count": null,
      "outputs": []
    },
    {
      "cell_type": "code",
      "source": [
        "import pandas as pd\n",
        "\n",
        "# Spécifiez le chemin vers votre fichier CSV\n",
        "chemin_fichier = 'Data_Exercice2.csv'\n",
        "\n",
        "# Lire le fichier CSV\n",
        "donnees = pd.read_csv(chemin_fichier)\n",
        "\n",
        "# Compter le nombre total de valeurs manquantes dans tout le dataframe\n",
        "nb_total_na = donnees.isna().sum().sum()\n",
        "\n",
        "# Afficher le nombre total de valeurs manquantes\n",
        "print(nb_total_na)\n",
        "\n",
        "# Convertir la première ligne en dictionnaire\n",
        "ligne_dict = donnees.iloc[21].to_dict()\n",
        "\n",
        "# Afficher le dictionnaire\n",
        "print(ligne_dict)\n",
        "\n",
        "# Vérifier s'il y a une valeur NA dans la ligne donnée\n",
        "est_na = 'NA' in donnees.iloc[21].values\n",
        "\n",
        "# Afficher le résultat\n",
        "if est_na:\n",
        "    print(\"Il y a une valeur NA dans la ligne.\")\n",
        "else:\n",
        "    print(\"Il n'y a pas de valeur NA dans la ligne.\")\n",
        "\n"
      ],
      "metadata": {
        "colab": {
          "base_uri": "https://localhost:8080/"
        },
        "id": "T1IjaZCJn79W",
        "outputId": "b8f3ff57-a437-4256-e7d6-fe89f65dc0eb"
      },
      "execution_count": 15,
      "outputs": [
        {
          "output_type": "stream",
          "name": "stdout",
          "text": [
            "0\n",
            "{'Num_Acc;\"id_usager\";\"id_vehicule\";\"place\";\"catu\";\"grav\";\"an_nais\";\"catv\";\"motor\";\"catr\";\"circ\";\"vma\";\"lum\";\"dep\";\"com\";\"agg\";\"atm\";\"col\"': '202200000011;\"1\\xa0099\\xa0677\";\"813\\xa0935\";\"1\";\"1\";\"1\";NA;\"7\";\"1\";\"3\";\"2\";70;\"5\";\"09\";\"09122\";\"2\";\"2\";\"6\"'}\n",
            "Il n'y a pas de valeur NA dans la ligne.\n"
          ]
        }
      ]
    },
    {
      "cell_type": "code",
      "source": [
        "from sklearn.model_selection import train_test_split\n",
        "\n",
        "# Diviser le jeu de données en ensembles d'apprentissage (75%) et de test (25%)\n",
        "train_df, test_df = train_test_split(df, test_size=0.25, random_state=42)\n",
        "\n",
        "# Afficher les tailles des ensembles d'apprentissage et de test\n",
        "print(f\"\\nTraining set size: {train_df.shape[0]}\")\n",
        "print(f\"Test set size: {test_df.shape[0]}\")\n"
      ],
      "metadata": {
        "id": "2-aS-R09i54B"
      },
      "execution_count": null,
      "outputs": []
    },
    {
      "cell_type": "code",
      "source": [
        "from sklearn.preprocessing import LabelEncoder\n",
        "\n",
        "# Sélectionner les colonnes pertinentes\n",
        "features = ['Model', 'Fuel Consumption City (L/100 km)',\n",
        "            'Fuel Consumption Hwy (L/100 km)', 'Fuel Consumption Comb (L/100 km)', 'Fuel Type']\n",
        "target = 'CO2 Emissions(g/km)'\n",
        "\n",
        "X_train = train_df[features].copy()\n",
        "y_train = train_df[target].copy()\n",
        "X_test = test_df[features].copy()\n",
        "y_test = test_df[target].copy()\n",
        "\n",
        "# Combiner les ensembles d'entraînement et de test pour encoder les variables catégorielles\n",
        "combined_df = pd.concat([X_train, X_test], keys=['train', 'test'])\n",
        "\n",
        "# Encoder les variables catégorielles\n",
        "label_encoders = {}\n",
        "for column in ['Model', 'Fuel Type']:\n",
        "    label_encoders[column] = LabelEncoder()\n",
        "    combined_df[column] = label_encoders[column].fit_transform(combined_df[column])\n",
        "\n",
        "# Séparer les ensembles d'entraînement et de test après encodage\n",
        "X_train = combined_df.loc['train']\n",
        "X_test = combined_df.loc['test']\n"
      ],
      "metadata": {
        "id": "7N7_BYsFjBPk"
      },
      "execution_count": null,
      "outputs": []
    },
    {
      "cell_type": "code",
      "source": [
        "from sklearn.ensemble import RandomForestRegressor\n",
        "from sklearn.metrics import mean_absolute_error, mean_squared_error\n",
        "\n",
        "# Entraîner le modèle de forêt aléatoire\n",
        "best_model = None\n",
        "best_score = float('inf')\n",
        "for n_estimators in [100, 200, 300]:\n",
        "    for max_depth in [10, 20, 30]:\n",
        "        model = RandomForestRegressor(n_estimators=n_estimators, max_depth=max_depth, random_state=42)\n",
        "        model.fit(X_train, y_train)\n",
        "        y_pred = model.predict(X_test)\n",
        "        score = mean_absolute_error(y_test, y_pred)\n",
        "        if score < best_score:\n",
        "            best_score = score\n",
        "            best_model = model\n"
      ],
      "metadata": {
        "id": "o9pV6nlXjNsn"
      },
      "execution_count": null,
      "outputs": []
    },
    {
      "cell_type": "code",
      "source": [
        "# Prédictions avec le meilleur modèle\n",
        "y_pred_best = best_model.predict(X_test)\n",
        "\n",
        "# Modèle naïf utilisant la médiane\n",
        "median_value = y_train.median()\n",
        "y_pred_naive = [median_value] * len(y_test)\n",
        "\n",
        "# Calcul des métriques d'évaluation\n",
        "mae_rf = mean_absolute_error(y_test, y_pred_best)\n",
        "rmse_rf = np.sqrt(mean_squared_error(y_test, y_pred_best))\n",
        "\n",
        "mae_naive = mean_absolute_error(y_test, y_pred_naive)\n",
        "rmse_naive = np.sqrt(mean_squared_error(y_test, y_pred_naive))\n",
        "\n",
        "# Afficher les résultats\n",
        "print(f\"Random Forest MAE: {mae_rf}, RMSE: {rmse_rf}\")\n",
        "print(f\"Naive Model MAE: {mae_naive}, RMSE: {rmse_naive}\")\n",
        "\n",
        "# Visualisation des résultats\n",
        "plt.figure(figsize=(12, 6))\n",
        "\n",
        "plt.subplot(1, 2, 1)\n",
        "plt.scatter(y_test, y_pred_best, alpha=0.5)\n",
        "plt.plot([y_test.min(), y_test.max()], [y_test.min(), y_test.max()], 'r--')\n",
        "plt.xlabel('Actual CO2 Emissions')\n",
        "plt.ylabel('Predicted CO2 Emissions')\n",
        "plt.title('Random Forest Predictions')\n",
        "\n",
        "plt.subplot(1, 2, 2)\n",
        "plt.scatter(y_test, y_pred_naive, alpha=0.5, color='orange')\n",
        "plt.plot([y_test.min(), y_test.max()], [y_test.min(), y_test.max()], 'r--')\n",
        "plt.xlabel('Actual CO2 Emissions')\n",
        "plt.ylabel('Predicted CO2 Emissions')\n",
        "plt.title('Naive Model Predictions')\n",
        "\n",
        "plt.tight_layout()\n",
        "plt.show()\n"
      ],
      "metadata": {
        "id": "98UiAOBRjVsc"
      },
      "execution_count": null,
      "outputs": []
    },
    {
      "cell_type": "markdown",
      "source": [
        "### Interprétation des Résultats\n",
        "\n",
        "#### Analyse des Données\n",
        "\n",
        "1. **Exploration Initiale** :\n",
        "   - Le jeu de données contient 7385 enregistrements et 12 colonnes.\n",
        "   - Les colonnes incluent des variables catégorielles (ex : `Make`, `Model`, `Vehicle Class`, `Transmission`, `Fuel Type`) et des variables numériques (ex : `Engine Size(L)`, `Cylinders`, `Fuel Consumption`, `CO2 Emissions(g/km)`).\n",
        "\n",
        "2. **Statistiques Descriptives** :\n",
        "   - Les statistiques de base (moyenne, médiane, min, max) des variables numériques montrent une variabilité significative entre les différents modèles de véhicules.\n",
        "   - La variable cible `CO2 Emissions(g/km)` présente une moyenne de 250.58 g/km avec un écart-type de 58.51 g/km, indiquant une distribution large des émissions de CO2.\n",
        "\n",
        "3. **Matrice de Corrélation** :\n",
        "   - Une forte corrélation positive (0.87) entre `CO2 Emissions` et `Engine Size(L)` indique que les véhicules avec des moteurs plus gros tendent à émettre plus de CO2.\n",
        "   - La corrélation négative avec `Fuel Consumption Comb (mpg)` (-0.87) confirme que des véhicules plus économes en carburant émettent moins de CO2.\n",
        "\n",
        "4. **Visualisation des Outliers** :\n",
        "   - Les box plots des variables numériques montrent la présence de quelques outliers, surtout dans les variables de consommation de carburant et d’émissions de CO2. Ces outliers peuvent représenter des véhicules aux performances exceptionnelles ou des erreurs de mesure.\n",
        "\n",
        "#### Division des Données\n",
        "\n",
        "Le jeu de données a été divisé en deux parties :\n",
        "   - **Ensemble d'apprentissage** : 75% des données (5538 enregistrements).\n",
        "   - **Ensemble de test** : 25% des données (1847 enregistrements).\n",
        "\n",
        "#### Modélisation avec une Forêt Aléatoire\n",
        "\n",
        "1. **Prétraitement des Données** :\n",
        "   - Les variables catégorielles `Model` et `Fuel Type` ont été encodées en valeurs numériques pour être utilisées dans le modèle.\n",
        "   - Les variables de consommation de carburant (`Fuel Consumption City`, `Fuel Consumption Hwy`, `Fuel Consumption Comb`) et `Model`, `Fuel Type` ont été utilisées comme variables explicatives.\n",
        "\n",
        "2. **Optimisation du Modèle** :\n",
        "   - Plusieurs combinaisons de paramètres (`n_estimators` et `max_depth`) ont été testées pour optimiser les performances du modèle de forêt aléatoire.\n",
        "   - Le meilleur modèle a été sélectionné sur la base du score MAE (Mean Absolute Error).\n",
        "\n",
        "#### Comparaison des Modèles\n",
        "\n",
        "1. **Modèle de Forêt Aléatoire** :\n",
        "   - **MAE** : 1.82\n",
        "   - **RMSE** : 2.72\n",
        "   - Les prédictions du modèle de forêt aléatoire montrent une bonne correspondance avec les valeurs réelles des émissions de CO2, indiquant une capacité du modèle à capturer les relations non linéaires et interactions complexes entre les variables.\n",
        "\n",
        "2. **Modèle Naïf** :\n",
        "   - **MAE** : 46.43\n",
        "   - **RMSE** : 58.51\n",
        "   - Le modèle naïf, utilisant la valeur médiane des émissions de CO2 comme prédiction, sert de base de comparaison simple. Bien que facile à interpréter, ce modèle ne capture pas les variations individuelles entre les véhicules.\n",
        "\n",
        "#### Interprétation des Résultats\n",
        "\n",
        "Les résultats montrent que le modèle de forêt aléatoire surpasse largement le modèle naïf en termes de MAE et de RMSE, indiquant une bien meilleure précision et une meilleure capacité à prédire les émissions de CO2 :\n",
        "\n",
        "- **Random Forest MAE** : 1.82 contre **Naive Model MAE** : 46.43\n",
        "- **Random Forest RMSE** : 2.72 contre **Naive Model RMSE** : 58.51\n",
        "\n",
        "### Conclusion\n",
        "\n",
        "Le modèle de forêt aléatoire, grâce à sa capacité à gérer la complexité et les interactions des données, offre des prédictions beaucoup plus précises des émissions de CO2 des véhicules comparé au modèle naïf basé sur la médiane. Les métriques d'évaluation (MAE et RMSE) confirment l'amélioration significative apportée par l'approche de la forêt aléatoire, démontrant sa pertinence pour ce type de tâche de régression.\n",
        "\n",
        "Cette analyse souligne l'importance de choisir des modèles de machine learning avancés pour capturer les dynamiques sous-jacentes dans les données complexes, offrant ainsi des prédictions plus fiables et exploitables pour la prise de décision. La forêt aléatoire a prouvé son efficacité en fournissant des résultats beaucoup plus proches des valeurs réelles, ce qui est crucial pour des applications telles que la régulation des émissions de CO2 et l'amélioration de l'efficacité énergétique des véhicules."
      ],
      "metadata": {
        "id": "8d7eT5KKk_1z"
      }
    }
  ]
}